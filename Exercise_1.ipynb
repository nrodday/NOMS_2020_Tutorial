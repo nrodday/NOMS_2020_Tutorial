{
 "cells": [
  {
   "cell_type": "markdown",
   "metadata": {},
   "source": [
    "# Exercise 1\n",
    "\n",
    "This Excercise has the goal to determine the share of valid/invalid/not-found BGP annoucnements based on a data dump from the Oregon collector on April 14th 2020. The result will be similar to https://rpki-monitor.antd.nist.gov/\n",
    "\n",
    "The command used to generate the BGP dump: \n",
    "nohup bgpreader -w 1586822400,1586851200 -c route-views2 -t ribs > bgpdata_exercise_1.txt &\n",
    "\n",
    "\n",
    "The ROAs to validate each BGP announcement were collected from http://valid.rg.net:8080/ for the same date at 12am UTC. You can export the dataset here: http://valid.rg.net:8080/api/export.json\n",
    "\n",
    "DISCLAIMER: This is an exercise and it is simplifying many things, it is not correctly implementing RFC 6811!\n",
    "\n",
    "\n"
   ]
  },
  {
   "cell_type": "markdown",
   "metadata": {},
   "source": [
    "The following code snippet imports all dependencies"
   ]
  },
  {
   "cell_type": "code",
   "execution_count": null,
   "metadata": {},
   "outputs": [],
   "source": [
    "from ipaddress import ip_network\n",
    "import pybgpstream\n",
    "import bgpReader_util.bgp as bgp\n",
    "import json\n",
    "import matplotlib.pyplot as plt"
   ]
  },
  {
   "cell_type": "markdown",
   "metadata": {},
   "source": [
    "Now we read all ROAs from the prefetched JSON file. The datastructure looks as follows: http://192.87.172.73:10020/edit/Exercise_1/roa_export_20200415.json\n",
    "\n",
    "To simplify lookups, we build a dictionary that uses the prefixes as keys. The values are the ROAs existing for the respective prefix. The datastructure looks as follows:\n",
    "\n",
    "{\n",
    "'58.181.75.0/24': [{'asn': '0', 'prefix': '58.181.75.0/24', 'maxLength': 24, 'ta': 'APNIC RPKI Root'}],\n",
    "'101.97.43.0/24': [{'asn': '0', 'prefix': '101.97.43.0/24', 'maxLength': 24, 'ta': 'APNIC RPKI Root'}, {'asn': '1', 'prefix': '58.181.0.0/16', 'maxLength': 24, 'ta': 'APNIC RPKI Root'}]\n",
    "}"
   ]
  },
  {
   "cell_type": "code",
   "execution_count": null,
   "metadata": {},
   "outputs": [],
   "source": [
    "roas = {}\n",
    "with open(\"Exercise_1/roa_export_20200415.json\", \"r\") as read_file:\n",
    "    roa_data = json.load(read_file)\n",
    "    for roa in roa_data['roas']:\n",
    "        if roa['prefix'] not in roas:\n",
    "            roas[roa['prefix']] = []\n",
    "        roas[roa['prefix']].append(roa)"
   ]
  },
  {
   "cell_type": "markdown",
   "metadata": {},
   "source": [
    "Initialize result variables for valid/invalid/not-found."
   ]
  },
  {
   "cell_type": "code",
   "execution_count": null,
   "metadata": {},
   "outputs": [],
   "source": [
    "valid = set()\n",
    "invalid = set()\n",
    "not_found = set()"
   ]
  },
  {
   "cell_type": "markdown",
   "metadata": {},
   "source": [
    "Next, let´s read our bgp dump and implement the exercise."
   ]
  },
  {
   "cell_type": "code",
   "execution_count": null,
   "metadata": {},
   "outputs": [],
   "source": [
    "with open('Exercise_1/short.txt', 'r') as f_in: # This is a random sample of 1k lines\n",
    "    for line in f_in:\n",
    "        if not bgp.is_relevant_line(line, ['\\n', '/', '#']): #Filter non BGP-Elements\n",
    "            continue\n",
    "        bgp_fields = bgp.get_bgp_fields(line, 'v2') #Parse BGP fields\n",
    "        if not bgp.is_valid_bgp_entry(bgp_fields): #Filter corrupted BGP-Elements\n",
    "            continue\n",
    "            \n",
    "        origin = bgp_fields['origin']        #E.g. '47065'\n",
    "        prefix = bgp_fields['prefix']        #E.g. '147.28.240.0/24'\n",
    "        identifier = prefix + \" + \" + origin #E.g. '147.28.240.0/24 + 47065'\n",
    "        \n",
    "        if identifier in (not_found | valid | invalid): continue #Only perform lookup once (unique prefix/origin pairs)\n",
    "        \n",
    "        \n",
    "        not_found.add(identifier) #If we can find a ROA that renders this prefix valid/invalid, it is not_found\n",
    "        \n",
    "        bgpdump_prefix = ip_network(prefix)\n",
    "        if bgpdump_prefix.version != 4: continue # Only check IPv4 address space\n",
    "        \n",
    "\n",
    "        if prefix in roas: #Match found in ROAs for this prefix\n",
    "            for roa in roas[prefix]:\n",
    "                roa_prefix = ip_network(roa['prefix'])\n",
    "                \n",
    "                if roa_prefix.version == bgpdump_prefix.version: #Only Compare IPv4/IPv4 and IPv6/IPv6\n",
    "                    \n",
    "                    pass #remove pass\n",
    "                    #\n",
    "                    # ADD YOUR CODE HERE\n",
    "                    #\n"
   ]
  },
  {
   "cell_type": "markdown",
   "metadata": {},
   "source": [
    "Let´s see how many prefixes we validated:"
   ]
  },
  {
   "cell_type": "code",
   "execution_count": null,
   "metadata": {},
   "outputs": [],
   "source": [
    "print('Items in VALID: ', len(valid))\n",
    "print('Items in INVALID: ', len(invalid))\n",
    "print('Items in NOT FOUND: ', len(not_found))"
   ]
  },
  {
   "cell_type": "code",
   "execution_count": null,
   "metadata": {},
   "outputs": [],
   "source": [
    "share_valid = round((100 / (len(valid) + len(invalid) + len(not_found))) * len(valid), 2)\n",
    "share_invalid = round((100 / (len(valid) + len(invalid) + len(not_found))) * len(invalid), 2)\n",
    "share_notfound = round((100 / (len(valid) + len(invalid) + len(not_found))) * len(not_found), 2)\n",
    "\n",
    "print('Prefixes VALID [%]: ', share_valid)\n",
    "print('Prefixes INVALID [%]: ', share_invalid)\n",
    "print('Prefixes NOT FOUND [%]: ', share_notfound)"
   ]
  },
  {
   "cell_type": "markdown",
   "metadata": {},
   "source": [
    "This code snippet generates a pie chart for you."
   ]
  },
  {
   "cell_type": "code",
   "execution_count": null,
   "metadata": {},
   "outputs": [],
   "source": [
    "# Pie chart, where the slices will be ordered and plotted counter-clockwise:\n",
    "labels = 'VALID', 'NOT FOUND', 'INVALID'\n",
    "sizes = [share_valid, share_notfound, share_invalid]\n",
    "explode = (0, 0.1, 0.2)\n",
    "colors = ['green', 'yellow', 'red']\n",
    "\n",
    "fig1, ax1 = plt.subplots()\n",
    "ax1.pie(sizes, explode=explode, labels=labels, colors=colors, autopct='%1.1f%%',\n",
    "        shadow=True, startangle=90)\n",
    "ax1.axis('equal')  # Equal aspect ratio ensures that pie is drawn as a circle.\n",
    "\n",
    "plt.show()"
   ]
  }
 ],
 "metadata": {
  "kernelspec": {
   "display_name": "Python 3",
   "language": "python",
   "name": "python3"
  },
  "language_info": {
   "codemirror_mode": {
    "name": "ipython",
    "version": 3
   },
   "file_extension": ".py",
   "mimetype": "text/x-python",
   "name": "python",
   "nbconvert_exporter": "python",
   "pygments_lexer": "ipython3",
   "version": "3.8.2"
  }
 },
 "nbformat": 4,
 "nbformat_minor": 4
}
