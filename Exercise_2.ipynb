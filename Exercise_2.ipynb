{
 "cells": [
  {
   "cell_type": "markdown",
   "metadata": {},
   "source": [
    "# Exercise 2\n",
    "This exercise has the goal to determine ASes that are using the RPKI to perform Route-Origin-Validation (ROV) and filter invalid announcements. \n",
    "\n",
    "An invalid announcement is a BGP announcement that has a ROA covering the announced prefix space, but the Origin AS announcing the prefix is not contained in any covering ROA, therefore rendering the announcement invalid. This could be a possible hijack or a misconfiguration.\n",
    "\n",
    "Methodology: We announce an anchor prefix 147.28.240.0/24 which is always validating to valid. We also announce an experiment prefix 147.28.241.0/24 which is invalid between 04-12 UTC, else valid. Therefore, we are able to observe route changes/missing routes for the experiment prefix once the valitity status changes.\n",
    "\n",
    "You get all VantagePoint (VP) data as input. A VP is defined as VP ASN + IP. It is structured as follows:\n",
    "\n",
    "34224 + 94.156.252.18<br>\n",
    "&emsp; 147.28.240.0/24<br>\n",
    "&emsp; &emsp; 1586822400: 34224 47065<br>\n",
    "&emsp; &emsp; 1586829600: 34224 47065<br>\n",
    "&emsp; &emsp; 1586836800: 34224 47065<br>\n",
    "&emsp; &emsp; 1586844000: 34224 47065<br>\n",
    "&emsp; 147.28.241.0/24<br>\n",
    "&emsp; &emsp; 1586822400: 34224 47065<br>\n",
    "&emsp; &emsp; 1586829600: 34224 47065<br>\n",
    "&emsp; &emsp; 1586836800: 34224 47065<br>\n",
    "&emsp; &emsp; 1586844000: 34224 8455 8283 47065<br>\n",
    "\n",
    "We observe a route change for the experiment prefix at 1586844000 due to RPKI. \n",
    "\n",
    "**Your task: Implement the methodology to find such route changes and identify ROV-enforcing ASes.**"
   ]
  },
  {
   "cell_type": "code",
   "execution_count": null,
   "metadata": {},
   "outputs": [],
   "source": [
    "import bgpReader_util.bgp as bgp\n",
    "import sys\n",
    "sys.path.insert(1, 'Exercise_2/')\n",
    "from controlled import *"
   ]
  },
  {
   "cell_type": "markdown",
   "metadata": {},
   "source": [
    "The imported code snippet renders the data for you and provides you with a nested dict to work on.\n",
    "The code can be found here: http://192.87.172.73:10020/edit/Exercise_2/controlled.py"
   ]
  },
  {
   "cell_type": "code",
   "execution_count": null,
   "metadata": {},
   "outputs": [],
   "source": [
    "vp_routes = get_bgp_data_from_file('Exercise_2/bgpdata_exercise_2.txt') #Reads BGP data into nested dict\n",
    "vp_routes = add_missing_routes(vp_routes) #Adds \"missing\" if anchor prefix was present at a timepoint but experiment prefix not\n",
    "\n",
    "p_a = '147.28.240.0/24' #Prefix Anchor\n",
    "p_e = '147.28.241.0/24' #Prefix Experiment\n",
    "\n",
    "# vp_routes[vp][prefix][timestamp]\n",
    "for vp in vp_routes:\n",
    "    vp_asn = vp[0]\n",
    "    vp_ip = vp[1]\n",
    "    \n",
    "    print()\n",
    "    print('VantagePoint ASN+IP: ', vp[0] + ' + ' + vp[1])\n",
    "    for prefix in vp_routes[vp]:\n",
    "        print(prefix)\n",
    "        for timestamp in vp_routes[vp][prefix]:\n",
    "            print(timestamp, vp_routes[vp][prefix][timestamp])\n"
   ]
  },
  {
   "cell_type": "markdown",
   "metadata": {},
   "source": [
    "Implement your code here:"
   ]
  },
  {
   "cell_type": "code",
   "execution_count": null,
   "metadata": {},
   "outputs": [],
   "source": [
    "day = '2020-04-14'\n",
    "tutorial_results = [] # This array should contain the ASes you identified as ROV-enforcing\n",
    "for vp in vp_routes:\n",
    "    vp_asn = vp[0]\n",
    "    vp_ip = vp[1]\n",
    "\n",
    "            #\n",
    "            # ADD YOUR CODE HERE\n",
    "            #\n",
    "\n",
    "                \n",
    "for i in tutorial_results:\n",
    "    print(i)\n"
   ]
  }
 ],
 "metadata": {
  "kernelspec": {
   "display_name": "Python 3",
   "language": "python",
   "name": "python3"
  },
  "language_info": {
   "codemirror_mode": {
    "name": "ipython",
    "version": 3
   },
   "file_extension": ".py",
   "mimetype": "text/x-python",
   "name": "python",
   "nbconvert_exporter": "python",
   "pygments_lexer": "ipython3",
   "version": "3.8.2"
  }
 },
 "nbformat": 4,
 "nbformat_minor": 4
}
